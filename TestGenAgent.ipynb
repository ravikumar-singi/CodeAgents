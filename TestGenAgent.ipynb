{
 "cells": [
  {
   "cell_type": "code",
   "execution_count": null,
   "metadata": {},
   "outputs": [],
   "source": [
    "from transformers import pipeline\n",
    "\n",
    "class TestGenerator:\n",
    "    def __init__(self, model_name=\"EleutherAI/gpt-neo-2.7B\"):\n",
    "        \"\"\"\n",
    "        Initialize the test generator with a specific LLM model.\n",
    "        \"\"\"\n",
    "        self.generator = pipeline(\"text-generation\", model=model_name)\n",
    "    \n",
    "    def generate_tests(self, code_snippet: str) -> str:\n",
    "        \"\"\"\n",
    "        Generate unit tests for the provided Python code using pytest.\n",
    "\n",
    "        Args:\n",
    "            code_snippet (str): Python code for which to generate tests.\n",
    "\n",
    "        Returns:\n",
    "            str: Generated unit tests in pytest format.\n",
    "        \"\"\"\n",
    "        prompt = (\n",
    "            \"Generate unit tests for the following Python code using pytest:\\n\\n\"\n",
    "            f\"{code_snippet}\\n\"\n",
    "            \"The tests should cover normal cases, edge cases, and error handling.\"\n",
    "        )\n",
    "        response = self.generator(prompt, max_length=500, num_return_sequences=1)\n",
    "        return response[0][\"generated_text\"]\n",
    "\n",
    "\n",
    "\n"
   ]
  },
  {
   "cell_type": "code",
   "execution_count": null,
   "metadata": {},
   "outputs": [],
   "source": [
    "# Example usage\n",
    "if __name__ == \"__main__\":\n",
    "    # Define a sample Python function\n",
    "    python_code = \"\"\"\n",
    "    def multiply(a, b):\n",
    "        if not isinstance(a, (int, float)) or not isinstance(b, (int, float)):\n",
    "            raise ValueError(\"Inputs must be numbers\")\n",
    "        return a * b\n",
    "    \"\"\"\n",
    "\n",
    "    # Initialize the test generator\n",
    "    generator = TestGenerator()\n",
    "\n",
    "    # Generate tests\n",
    "    tests = generator.generate_tests(python_code)\n",
    "\n",
    "    # Output the generated tests\n",
    "    print(tests)"
   ]
  }
 ],
 "metadata": {
  "kernelspec": {
   "display_name": "Python 3",
   "language": "python",
   "name": "python3"
  },
  "language_info": {
   "name": "python",
   "version": "3.12.3"
  }
 },
 "nbformat": 4,
 "nbformat_minor": 2
}
